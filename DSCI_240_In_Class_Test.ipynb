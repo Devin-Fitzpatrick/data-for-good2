{
  "nbformat": 4,
  "nbformat_minor": 0,
  "metadata": {
    "colab": {
      "provenance": []
    },
    "kernelspec": {
      "name": "python3",
      "display_name": "Python 3"
    },
    "language_info": {
      "name": "python"
    }
  },
  "cells": [
    {
      "cell_type": "markdown",
      "source": [
        "This is my new Jupyter Notebook!"
      ],
      "metadata": {
        "id": "trYcfLF2oE86"
      }
    },
    {
      "cell_type": "code",
      "execution_count": 1,
      "metadata": {
        "colab": {
          "base_uri": "https://localhost:8080/"
        },
        "id": "TOuTPyAcoCtP",
        "outputId": "e17a5d7f-cc55-479a-d075-eee7f285050e"
      },
      "outputs": [
        {
          "output_type": "stream",
          "name": "stdout",
          "text": [
            "Hello, world!\n"
          ]
        }
      ],
      "source": [
        "print(\"Hello, world!\")"
      ]
    },
    {
      "cell_type": "markdown",
      "source": [
        "This will be my second commit!"
      ],
      "metadata": {
        "id": "99XBQE0dpxtu"
      }
    },
    {
      "cell_type": "code",
      "source": [
        "print(\"Hooray!\")"
      ],
      "metadata": {
        "id": "Omy1vDYApzgj",
        "outputId": "6b627176-0898-4cfd-ee1f-6c480e1c45de",
        "colab": {
          "base_uri": "https://localhost:8080/"
        }
      },
      "execution_count": 2,
      "outputs": [
        {
          "output_type": "stream",
          "name": "stdout",
          "text": [
            "Hooray!\n"
          ]
        }
      ]
    }
  ]
}